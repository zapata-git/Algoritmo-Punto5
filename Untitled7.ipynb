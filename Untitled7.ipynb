{
  "nbformat": 4,
  "nbformat_minor": 0,
  "metadata": {
    "colab": {
      "name": "Untitled7.ipynb",
      "provenance": [],
      "collapsed_sections": [],
      "authorship_tag": "ABX9TyMIiWgXdDSA/q+4xCaaNMJr",
      "include_colab_link": true
    },
    "kernelspec": {
      "name": "python3",
      "display_name": "Python 3"
    },
    "language_info": {
      "name": "python"
    }
  },
  "cells": [
    {
      "cell_type": "markdown",
      "metadata": {
        "id": "view-in-github",
        "colab_type": "text"
      },
      "source": [
        "<a href=\"https://colab.research.google.com/github/ozapata2019/Algoritmo-Punto5/blob/master/Untitled7.ipynb\" target=\"_parent\"><img src=\"https://colab.research.google.com/assets/colab-badge.svg\" alt=\"Open In Colab\"/></a>"
      ]
    },
    {
      "cell_type": "markdown",
      "source": [
        "**Razon Dorada \n",
        "**Carlos Zapata Arango \n",
        "CC 1044504411\n",
        "\n"
      ],
      "metadata": {
        "id": "uQjUFVR9UVIX"
      }
    },
    {
      "cell_type": "code",
      "source": [
        "import math\n",
        "from tabulate import tabulate"
      ],
      "metadata": {
        "id": "Ob_wuGwlSs8x"
      },
      "execution_count": 2,
      "outputs": []
    },
    {
      "cell_type": "code",
      "execution_count": 7,
      "metadata": {
        "colab": {
          "base_uri": "https://localhost:8080/"
        },
        "id": "208bXjL7SMBR",
        "outputId": "3cf4de4f-57e3-41ee-eb52-eccad78f386a"
      },
      "outputs": [
        {
          "output_type": "stream",
          "name": "stdout",
          "text": [
            "Indicar si desea buscar un mínimo (S/N): n\n",
            "Indicar si desea buscar un máximo (S/N): s\n",
            "Indicar límite inferior xl: 0\n",
            "Indicar límite superior xu: 4\n",
            "Indicar la cantidad de iteraciones deseada para estimar el punto crítico (Número entero positivo): 5\n",
            "\n",
            "\n",
            "\n",
            "  iteración        xl    f(xl)       x2     f(x2)        x1    f(x1)       xu      f(xu)\n",
            "-----------  --------  -------  -------  --------  --------  -------  -------  ---------\n",
            "          1  0         0        2.47214  0.629974  1.52786   1.76472  4        -3.1136\n",
            "          2  0         0        1.52786  1.76472   0.944272  1.53098  2.47214   0.629974\n",
            "          3  0.944272  1.53098  1.88854  1.54322   1.52786   1.76472  2.47214   0.629974\n",
            "          4  0.944272  1.53098  1.52786  1.76472   1.30495   1.75945  1.88854   1.54322\n",
            "          5  1.30495   1.75945  1.66563  1.71358   1.52786   1.76472  1.88854   1.54322\n",
            "\n",
            "\n",
            "Se ha encontrado un máximo alrededor de (1.5278640450004206, 1.7647202482716495)\n"
          ]
        }
      ],
      "source": [
        "#Instalar la librería tabulate usando pip install tabulate en una ventana del cmd de Windows\n",
        "\n",
        "phi = (math.sqrt(5) - 1) / 2\n",
        "\n",
        "def function(x):\n",
        "    fx = 2 * math.sin(x) - math.pow(x, 2) / 10\n",
        "    return fx\n",
        "\n",
        "def goldenRatio (xl, xu):\n",
        "\n",
        "    x_uno = xu - phi * (xu - xl)\n",
        "    x_dos = xl + phi * (xu - xl)\n",
        "\n",
        "    fx_uno = function(x_uno)\n",
        "    fx_dos = function(x_dos)\n",
        "\n",
        "    return x_uno, x_dos, fx_uno, fx_dos\n",
        "\n",
        "\n",
        "encabezados = ['iteración', 'xl', 'f(xl)','x2', 'f(x2)','x1', 'f(x1)','xu', 'f(xu)']\n",
        "tabla = []\n",
        "\n",
        "\n",
        "min = input(\"Indicar si desea buscar un mínimo (S/N): \")\n",
        "while True:\n",
        "    if min.lower() == 's':\n",
        "        minimo = True\n",
        "        busqmax = False\n",
        "        maximo = False\n",
        "        break\n",
        "    elif min.lower() == 'n':\n",
        "        minimo = False\n",
        "        busqmax = True\n",
        "        break\n",
        "    else:\n",
        "        input(\"Indicar si desea buscar un mínimo (S/N): \")\n",
        "\n",
        "\n",
        "max = input(\"Indicar si desea buscar un máximo (S/N): \")\n",
        "while busqmax:\n",
        "    if max.lower() == 's':\n",
        "        maximo = True\n",
        "        break\n",
        "    elif max.lower() == 'n':\n",
        "        maximo = False\n",
        "        break\n",
        "    else:\n",
        "        input(\"Indicar si desea buscar un máximo (S/N): \")\n",
        "\n",
        "\n",
        "xl = float(input(\"Indicar límite inferior xl: \"))\n",
        "xu = float(input(\"Indicar límite superior xu: \"))\n",
        "iteraciones = int(input(\"Indicar la cantidad de iteraciones deseada para estimar el punto crítico (Número entero positivo): \"))\n",
        "\n",
        "\n",
        "fxl = function(xl)\n",
        "fxu = function(xu)\n",
        "x1, x2, fx1, fx2 = goldenRatio(xl, xu)\n",
        "fila = [1, xl, fxl, x2, fx2, x1, fx1, xu, fxu]\n",
        "tabla.append(fila)\n",
        "\n",
        "for iteracion in range(iteraciones - 1):\n",
        "    if minimo:\n",
        "        if fx1 > fx2:\n",
        "            xl = x1\n",
        "        if fx1 < fx2:\n",
        "            xu = x2\n",
        "        fxl = function(xl)\n",
        "        fxu = function(xu)\n",
        "        x1, x2, fx1, fx2 = goldenRatio(xl, xu)\n",
        "        fila = [iteracion + 2, xl, fxl, x2, fx2, x1, fx1, xu, fxu]\n",
        "        tabla.append(fila)\n",
        "\n",
        "    if maximo:\n",
        "        if fx1 > fx2:\n",
        "            xu = x2\n",
        "        if fx1 < fx2:\n",
        "            xl = x1\n",
        "        fxl = function(xl)\n",
        "        fxu = function(xu)\n",
        "        x1, x2, fx1, fx2 = goldenRatio(xl, xu)\n",
        "        fila = [iteracion + 2, xl, fxl, x2, fx2, x1, fx1, xu, fxu]\n",
        "        tabla.append(fila)\n",
        "\n",
        "\n",
        "if minimo:\n",
        "    if fx1 > fx2:\n",
        "        xfinal = x2\n",
        "        print(\"\\n\\n\")\n",
        "        print(tabulate(tabla, headers = encabezados))\n",
        "        print(\"\\n\\nSe ha encontrado un mínimo alrededor de (\" + str(xfinal) + \", \" + str(fx2) + \")\")\n",
        "    if fx1 < fx2:\n",
        "        xfinal = x1\n",
        "        print(\"\\n\\n\")\n",
        "        print(tabulate(tabla, headers = encabezados))\n",
        "        print(\"\\n\\nSe ha encontrado un mínimo alrededor de (\" + str(xfinal) + \", \" + str(fx1) + \")\")\n",
        "\n",
        "if maximo:\n",
        "    if fx1 > fx2:\n",
        "        xfinal = x1\n",
        "        print(\"\\n\\n\")\n",
        "        print(tabulate(tabla, headers = encabezados))\n",
        "        print(\"\\n\\nSe ha encontrado un máximo alrededor de (\" + str(xfinal) + \", \" + str(fx1) + \")\")\n",
        "    if fx1 < fx2:\n",
        "        xfinal = x2\n",
        "        print(\"\\n\\n\")\n",
        "        print(tabulate(tabla, headers = encabezados))\n",
        "        print(\"\\n\\nSe ha encontrado un máximo alrededor de (\" + str(xfinal) + \", \" + str(fx2) + \")\")\n"
      ]
    }
  ]
}